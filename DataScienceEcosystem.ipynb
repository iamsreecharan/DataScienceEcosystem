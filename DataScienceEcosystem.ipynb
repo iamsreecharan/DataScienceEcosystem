{
 "cells": [
  {
   "cell_type": "markdown",
   "id": "821ae938-ea61-4a4e-b5dc-0e48db4acff2",
   "metadata": {},
   "source": [
    "# Data Science Tools and Ecosystem\n"
   ]
  },
  {
   "cell_type": "markdown",
   "id": "239100fc-f841-47b8-898a-cd26a83d44d6",
   "metadata": {
    "tags": []
   },
   "source": [
    "## In this notebook, Data Science Tools and Ecosystem are summarized.\n"
   ]
  },
  {
   "cell_type": "markdown",
   "id": "eaf8571a-5d24-4dd9-8cf9-aa98cab265de",
   "metadata": {},
   "source": [
    "**Objectives :**\n",
    "<ul>\n",
    "    <li> Some of the popular languages that Data Scientists use</li>\n",
    "    <li> Some of the commonly used libraries used by Data Scientists</li>\n",
    "    <li> Data Science Tools</li>\n",
    "    <li> Evaluating Arithmetic Expressions</li>\n",
    "</ul>"
   ]
  },
  {
   "cell_type": "markdown",
   "id": "a55822dc-0b1b-48d2-9156-9758e13d6acb",
   "metadata": {
    "tags": []
   },
   "source": [
    "### Some of the popular languages that Data Scientists use are: ###\n",
    "<ol>\n",
    "    <li> Python </li>\n",
    "    <li> R </li>\n",
    "    <li> Scala </li>\n",
    "</ol>\n"
   ]
  },
  {
   "cell_type": "markdown",
   "id": "1a5a96f7-4411-4975-951e-c84c6e281475",
   "metadata": {
    "tags": []
   },
   "source": [
    "### Some of the commonly used libraries used by Data Scientists include: ###\n",
    "<ol *>\n",
    "    <li> Pandas </li>\n",
    "    <li> Numpy </li>\n",
    "    <li> Matplotlib </li>\n",
    "</ol>\n"
   ]
  },
  {
   "cell_type": "markdown",
   "id": "46b39ccd-f39b-43dd-80e0-dd1ffe0e1326",
   "metadata": {},
   "source": [
    "|Data Science Tools|\n",
    "|------------------|\n",
    "|Apache Spark|\n",
    "|TensorFlow|\n",
    "|Apache Hadoop|\n"
   ]
  },
  {
   "cell_type": "markdown",
   "id": "92cfe21e-efcc-4f7a-aa86-46b03d3f7429",
   "metadata": {},
   "source": [
    "### Below are a few examples of evaluating arithmetic expressions in Python ###"
   ]
  },
  {
   "cell_type": "code",
   "execution_count": 8,
   "id": "e224de88-d2d7-4eca-824d-61f6bc050c1f",
   "metadata": {
    "tags": []
   },
   "outputs": [
    {
     "data": {
      "text/plain": [
       "17"
      ]
     },
     "execution_count": 8,
     "metadata": {},
     "output_type": "execute_result"
    }
   ],
   "source": [
    "(3*4)+5\n",
    "#This a simple arithmetic expression to mutiply then add integers\n"
   ]
  },
  {
   "cell_type": "code",
   "execution_count": 9,
   "id": "50da697b-e320-4890-b11f-46004cc8f6f1",
   "metadata": {
    "tags": []
   },
   "outputs": [
    {
     "data": {
      "text/plain": [
       "3.3333333333333335"
      ]
     },
     "execution_count": 9,
     "metadata": {},
     "output_type": "execute_result"
    }
   ],
   "source": [
    "200/60\n",
    "# This will convert 200 minutes to hours by diving by 60\n",
    "\n"
   ]
  },
  {
   "cell_type": "markdown",
   "id": "28edf215-4ec2-45f4-bf26-a5a9d87620c4",
   "metadata": {},
   "source": [
    "## Author ##\n",
    "Kailasam Sree Charan Reddy\n"
   ]
  },
  {
   "cell_type": "code",
   "execution_count": null,
   "id": "b183b23a-586c-4655-a823-ede21062b4c0",
   "metadata": {},
   "outputs": [],
   "source": []
  }
 ],
 "metadata": {
  "kernelspec": {
   "display_name": "Python",
   "language": "python",
   "name": "conda-env-python-py"
  },
  "language_info": {
   "codemirror_mode": {
    "name": "ipython",
    "version": 3
   },
   "file_extension": ".py",
   "mimetype": "text/x-python",
   "name": "python",
   "nbconvert_exporter": "python",
   "pygments_lexer": "ipython3",
   "version": "3.7.12"
  }
 },
 "nbformat": 4,
 "nbformat_minor": 5
}
